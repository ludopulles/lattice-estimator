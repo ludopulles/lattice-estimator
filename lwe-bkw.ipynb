{
 "cells": [
  {
   "cell_type": "markdown",
   "id": "e64d5e14",
   "metadata": {},
   "source": [
    "Notebook created: 2024-09-19 13:25:06  \n",
    "Generated from: docs/algorithms/lwe-bkw.rst  "
   ]
  },
  {
   "cell_type": "markdown",
   "id": "743cfc7a",
   "metadata": {},
   "source": [
    "\n",
    "<a id='coded-bkw-for-lwe'></a>"
   ]
  },
  {
   "cell_type": "markdown",
   "id": "294339b0",
   "metadata": {},
   "source": [
    "# Coded-BKW for LWE\n",
    "\n",
    "We construct an example LWE instance:"
   ]
  },
  {
   "cell_type": "code",
   "execution_count": null,
   "id": "16d3f65c",
   "metadata": {
    "hide-output": false
   },
   "outputs": [],
   "source": [
    "from estimator import *\n",
    "params = LWE.Parameters(n=400, q=7981, Xs=ND.SparseTernary(384, 16), Xe=ND.CenteredBinomial(4), m=800)\n",
    "params"
   ]
  },
  {
   "cell_type": "markdown",
   "id": "b6798b2c",
   "metadata": {},
   "source": [
    "and estimate the cost of Coded-BKW [[C:GuoJohSta15]](../references.ipynb#c-guojohsta15), [[C:KirFou15]](../references.ipynb#c-kirfou15):"
   ]
  },
  {
   "cell_type": "code",
   "execution_count": null,
   "id": "af0dc00a",
   "metadata": {
    "hide-output": false
   },
   "outputs": [],
   "source": [
    "LWE.coded_bkw(params)"
   ]
  },
  {
   "cell_type": "markdown",
   "id": "2be90c44",
   "metadata": {},
   "source": [
    "All BKW variants require *a lot* of samples. As called above, the algorithm will produce the required samples from what it is given, which increases the noise. Let’s pretend we have as many as we like:"
   ]
  },
  {
   "cell_type": "code",
   "execution_count": null,
   "id": "930c375f",
   "metadata": {
    "hide-output": false
   },
   "outputs": [],
   "source": [
    "LWE.coded_bkw(params.updated(m=2**100))"
   ]
  }
 ],
 "metadata": {
  "date": 1726752306.6960282,
  "filename": "lwe-bkw.rst",
  "kernelspec": {
   "display_name": "SageMath",
   "language": "sage",
   "name": "sagemath"
  },
  "title": "Coded-BKW for LWE"
 },
 "nbformat": 4,
 "nbformat_minor": 5
}