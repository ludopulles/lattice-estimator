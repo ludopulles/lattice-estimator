{
 "cells": [
  {
   "cell_type": "markdown",
   "id": "e762e69b",
   "metadata": {},
   "source": [
    "Notebook created: 2024-09-19 13:40:28  \n",
    "Generated from: docs/algorithms/lwe-dual.rst  "
   ]
  },
  {
   "cell_type": "markdown",
   "id": "2e7d5fc3",
   "metadata": {},
   "source": [
    "\n",
    "<a id='lwe-dual-attacks'></a>"
   ]
  },
  {
   "cell_type": "markdown",
   "id": "7e52ed11",
   "metadata": {},
   "source": [
    "# LWE Dual Attacks\n",
    "\n",
    "We construct an (easy) example LWE instance:"
   ]
  },
  {
   "cell_type": "code",
   "execution_count": null,
   "id": "85be90c1",
   "metadata": {
    "hide-output": false
   },
   "outputs": [],
   "source": [
    "from estimator import *\n",
    "from estimator.lwe_dual import dual_hybrid, matzov\n",
    "params = LWE.Parameters(n=200, q=7981, Xs=ND.SparseTernary(384, 16), Xe=ND.CenteredBinomial(4))\n",
    "params"
   ]
  },
  {
   "cell_type": "markdown",
   "id": "6e8daaab",
   "metadata": {},
   "source": [
    "The simplest (and quickest to estimate) algorithm is the “plain” dual attack as described in [[PQCBook:MicReg09]](../references.ipynb#pqcbook-micreg09):"
   ]
  },
  {
   "cell_type": "code",
   "execution_count": null,
   "id": "392c2bce",
   "metadata": {
    "hide-output": false
   },
   "outputs": [],
   "source": [
    "LWE.dual(params)"
   ]
  },
  {
   "cell_type": "markdown",
   "id": "dbaa51d5",
   "metadata": {},
   "source": [
    "We can improve these results by considering a dual hybrid attack as in [[EC:Albrecht17]](../references.ipynb#ec-albrecht17), [[INDOCRYPT:EspJouKha20]](../references.ipynb#indocrypt-espjoukha20):"
   ]
  },
  {
   "cell_type": "code",
   "execution_count": null,
   "id": "7aef769f",
   "metadata": {
    "hide-output": false
   },
   "outputs": [],
   "source": [
    "dual_hybrid(params)"
   ]
  },
  {
   "cell_type": "markdown",
   "id": "cc9e25a0",
   "metadata": {},
   "source": [
    "Further improvements are possible using a meet-in-the-middle approach [[EPRINT:CHHS19]](../references.ipynb#eprint-chhs19):"
   ]
  },
  {
   "cell_type": "code",
   "execution_count": null,
   "id": "55eba41a",
   "metadata": {
    "hide-output": false
   },
   "outputs": [],
   "source": [
    "dual_hybrid(params, mitm_optimization=True)"
   ]
  },
  {
   "cell_type": "markdown",
   "id": "64ac80a9",
   "metadata": {},
   "source": [
    "We consider the variant from [[MATZOV22]](../references.ipynb#matzov22):"
   ]
  },
  {
   "cell_type": "code",
   "execution_count": null,
   "id": "19ab6311",
   "metadata": {
    "hide-output": false
   },
   "outputs": [],
   "source": [
    "matzov(params)"
   ]
  }
 ],
 "metadata": {
  "date": 1726753228.1399097,
  "filename": "lwe-dual.rst",
  "kernelspec": {
   "display_name": "SageMath",
   "language": "sage",
   "name": "sagemath"
  },
  "title": "LWE Dual Attacks"
 },
 "nbformat": 4,
 "nbformat_minor": 5
}