{
 "cells": [
  {
   "cell_type": "markdown",
   "id": "0f4e3e5b",
   "metadata": {},
   "source": [
    "Notebook created: 2024-11-22 12:16:13  \n",
    "Generated from: docs/algorithms/lwe-dual.rst  "
   ]
  },
  {
   "cell_type": "markdown",
   "id": "093ed3e5",
   "metadata": {},
   "source": [
    "\n",
    "<a id='lwe-dual-attacks'></a>"
   ]
  },
  {
   "cell_type": "markdown",
   "id": "0dcc6d84",
   "metadata": {},
   "source": [
    "# LWE Dual Attacks\n",
    "\n",
    "We construct an (easy) example LWE instance:"
   ]
  },
  {
   "cell_type": "code",
   "execution_count": null,
   "id": "94052ab8",
   "metadata": {
    "hide-output": false
   },
   "outputs": [],
   "source": [
    "from estimator import *\n",
    "from estimator.lwe_dual import dual_hybrid, matzov\n",
    "params = LWE.Parameters(n=200, q=7981, Xs=ND.SparseTernary(16), Xe=ND.CenteredBinomial(4))\n",
    "params"
   ]
  },
  {
   "cell_type": "markdown",
   "id": "5d6248df",
   "metadata": {},
   "source": [
    "The simplest (and quickest to estimate) algorithm is the “plain” dual attack as described in [[PQCBook:MicReg09]](../references.ipynb#pqcbook-micreg09):"
   ]
  },
  {
   "cell_type": "code",
   "execution_count": null,
   "id": "36b655f7",
   "metadata": {
    "hide-output": false
   },
   "outputs": [],
   "source": [
    "LWE.dual(params)"
   ]
  },
  {
   "cell_type": "markdown",
   "id": "e1d19857",
   "metadata": {},
   "source": [
    "We can improve these results by considering a dual hybrid attack as in [[EC:Albrecht17]](../references.ipynb#ec-albrecht17), [[INDOCRYPT:EspJouKha20]](../references.ipynb#indocrypt-espjoukha20):"
   ]
  },
  {
   "cell_type": "code",
   "execution_count": null,
   "id": "e7fa647a",
   "metadata": {
    "hide-output": false
   },
   "outputs": [],
   "source": [
    "dual_hybrid(params)"
   ]
  },
  {
   "cell_type": "markdown",
   "id": "44f19683",
   "metadata": {},
   "source": [
    "Further improvements are possible using a meet-in-the-middle approach [[IEEE:CHHS19]](../references.ipynb#ieee-chhs19):"
   ]
  },
  {
   "cell_type": "code",
   "execution_count": null,
   "id": "a76aa927",
   "metadata": {
    "hide-output": false
   },
   "outputs": [],
   "source": [
    "dual_hybrid(params, mitm_optimization=True)"
   ]
  },
  {
   "cell_type": "markdown",
   "id": "a727cb12",
   "metadata": {},
   "source": [
    "We consider the variant from [[MATZOV22]](../references.ipynb#matzov22):"
   ]
  },
  {
   "cell_type": "code",
   "execution_count": null,
   "id": "e7ed8bf7",
   "metadata": {
    "hide-output": false
   },
   "outputs": [],
   "source": [
    "matzov(params)"
   ]
  }
 ],
 "metadata": {
  "date": 1732277773.4895391,
  "filename": "lwe-dual.rst",
  "kernelspec": {
   "display_name": "SageMath",
   "language": "sage",
   "name": "sagemath"
  },
  "title": "LWE Dual Attacks"
 },
 "nbformat": 4,
 "nbformat_minor": 5
}