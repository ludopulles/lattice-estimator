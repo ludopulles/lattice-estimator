{
 "cells": [
  {
   "cell_type": "markdown",
   "id": "ac431aa1",
   "metadata": {},
   "source": [
    "Notebook created: 2024-09-19 13:40:28  \n",
    "Generated from: docs/algorithms/gb.rst  "
   ]
  },
  {
   "cell_type": "markdown",
   "id": "e12df943",
   "metadata": {},
   "source": [
    "\n",
    "<a id='arora-gb'></a>"
   ]
  },
  {
   "cell_type": "markdown",
   "id": "86c6149b",
   "metadata": {},
   "source": [
    "# Arora-GB\n",
    "\n",
    "We construct an (easy) example LWE instance and estimate the cost of solving it using Gröbner bases as described in [[ICALP:AroGe11]](../_apidoc/estimator.gb/estimator.gb.AroraGB.ipynb#icalp-aroge11), [[EPRINT:ACFP14]](../_apidoc/estimator.gb/estimator.gb.AroraGB.ipynb#eprint-acfp14):"
   ]
  },
  {
   "cell_type": "code",
   "execution_count": null,
   "id": "cb721f94",
   "metadata": {
    "hide-output": false
   },
   "outputs": [],
   "source": [
    "from estimator import *\n",
    "params = LWE.Parameters(n=64, q=7681, Xs=ND.DiscreteGaussian(3.0), Xe=ND.DiscreteGaussian(3.0), m=2^50)\n",
    "LWE.arora_gb(params)"
   ]
  },
  {
   "cell_type": "markdown",
   "id": "18cfb230",
   "metadata": {},
   "source": [
    "The cost of this approach – Arora-GB – depends on the number of samples:"
   ]
  },
  {
   "cell_type": "code",
   "execution_count": null,
   "id": "2c34ccb6",
   "metadata": {
    "hide-output": false
   },
   "outputs": [],
   "source": [
    "LWE.arora_gb(params.updated(m=2^120))"
   ]
  },
  {
   "cell_type": "markdown",
   "id": "5668ef37",
   "metadata": {},
   "source": [
    "If the noise distribution is bounded, this bounds the absolute degree and thus cost:"
   ]
  },
  {
   "cell_type": "code",
   "execution_count": null,
   "id": "da4985ad",
   "metadata": {
    "hide-output": false
   },
   "outputs": [],
   "source": [
    "LWE.arora_gb(params.updated(Xe=ND.UniformMod(7)))"
   ]
  },
  {
   "cell_type": "markdown",
   "id": "8bc5239b",
   "metadata": {},
   "source": [
    "Centered binomial distributions are also bounded:"
   ]
  },
  {
   "cell_type": "code",
   "execution_count": null,
   "id": "184e5f6d",
   "metadata": {
    "hide-output": false
   },
   "outputs": [],
   "source": [
    "LWE.arora_gb(params.updated(Xe=ND.CenteredBinomial(8)))"
   ]
  },
  {
   "cell_type": "markdown",
   "id": "99917d01",
   "metadata": {},
   "source": [
    "The secret plays its role, too, in reducing the cost of solving:"
   ]
  },
  {
   "cell_type": "code",
   "execution_count": null,
   "id": "fe5a2859",
   "metadata": {
    "hide-output": false
   },
   "outputs": [],
   "source": [
    "LWE.arora_gb(params.updated(Xs=ND.UniformMod(5), Xe=ND.CenteredBinomial(4), m=1024))"
   ]
  },
  {
   "cell_type": "code",
   "execution_count": null,
   "id": "40e20c09",
   "metadata": {
    "hide-output": false
   },
   "outputs": [],
   "source": [
    "LWE.arora_gb(params.updated(Xs=ND.UniformMod(3), Xe=ND.CenteredBinomial(4), m=1024))"
   ]
  }
 ],
 "metadata": {
  "date": 1726753228.1268427,
  "filename": "gb.rst",
  "kernelspec": {
   "display_name": "SageMath",
   "language": "sage",
   "name": "sagemath"
  },
  "title": "Arora-GB"
 },
 "nbformat": 4,
 "nbformat_minor": 5
}