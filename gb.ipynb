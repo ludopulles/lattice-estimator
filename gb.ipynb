{
 "cells": [
  {
   "cell_type": "markdown",
   "id": "a99eeff8",
   "metadata": {},
   "source": [
    "Notebook created: 2024-10-04 12:05:15  \n",
    "Generated from: docs/algorithms/gb.rst  "
   ]
  },
  {
   "cell_type": "markdown",
   "id": "adac181e",
   "metadata": {},
   "source": [
    "\n",
    "<a id='arora-gb'></a>"
   ]
  },
  {
   "cell_type": "markdown",
   "id": "0aff1867",
   "metadata": {},
   "source": [
    "# Arora-GB\n",
    "\n",
    "We construct an (easy) example LWE instance and estimate the cost of solving it using Gröbner bases as described in [[ICALP:AroGe11]](../_apidoc/estimator.gb/estimator.gb.AroraGB.ipynb#icalp-aroge11), [[EPRINT:ACFP14]](../_apidoc/estimator.gb/estimator.gb.AroraGB.ipynb#eprint-acfp14):"
   ]
  },
  {
   "cell_type": "code",
   "execution_count": null,
   "id": "d9774f03",
   "metadata": {
    "hide-output": false
   },
   "outputs": [],
   "source": [
    "from estimator import *\n",
    "params = LWE.Parameters(n=64, q=7681, Xs=ND.DiscreteGaussian(3.0), Xe=ND.DiscreteGaussian(3.0), m=2^50)\n",
    "LWE.arora_gb(params)"
   ]
  },
  {
   "cell_type": "markdown",
   "id": "c94cb872",
   "metadata": {},
   "source": [
    "The cost of this approach – Arora-GB – depends on the number of samples:"
   ]
  },
  {
   "cell_type": "code",
   "execution_count": null,
   "id": "bf6c4b7d",
   "metadata": {
    "hide-output": false
   },
   "outputs": [],
   "source": [
    "LWE.arora_gb(params.updated(m=2^120))"
   ]
  },
  {
   "cell_type": "markdown",
   "id": "a1c9e894",
   "metadata": {},
   "source": [
    "If the noise distribution is bounded, this bounds the absolute degree and thus cost:"
   ]
  },
  {
   "cell_type": "code",
   "execution_count": null,
   "id": "6ba76dac",
   "metadata": {
    "hide-output": false
   },
   "outputs": [],
   "source": [
    "LWE.arora_gb(params.updated(Xe=ND.UniformMod(7)))"
   ]
  },
  {
   "cell_type": "markdown",
   "id": "509c4a53",
   "metadata": {},
   "source": [
    "Centered binomial distributions are also bounded:"
   ]
  },
  {
   "cell_type": "code",
   "execution_count": null,
   "id": "5949176f",
   "metadata": {
    "hide-output": false
   },
   "outputs": [],
   "source": [
    "LWE.arora_gb(params.updated(Xe=ND.CenteredBinomial(8)))"
   ]
  },
  {
   "cell_type": "markdown",
   "id": "6f8c1d5f",
   "metadata": {},
   "source": [
    "The secret plays its role, too, in reducing the cost of solving:"
   ]
  },
  {
   "cell_type": "code",
   "execution_count": null,
   "id": "5ce0de5c",
   "metadata": {
    "hide-output": false
   },
   "outputs": [],
   "source": [
    "LWE.arora_gb(params.updated(Xs=ND.UniformMod(5), Xe=ND.CenteredBinomial(4), m=1024))"
   ]
  },
  {
   "cell_type": "code",
   "execution_count": null,
   "id": "1a34b8bc",
   "metadata": {
    "hide-output": false
   },
   "outputs": [],
   "source": [
    "LWE.arora_gb(params.updated(Xs=ND.UniformMod(3), Xe=ND.CenteredBinomial(4), m=1024))"
   ]
  }
 ],
 "metadata": {
  "date": 1728043515.8641157,
  "filename": "gb.rst",
  "kernelspec": {
   "display_name": "SageMath",
   "language": "sage",
   "name": "sagemath"
  },
  "title": "Arora-GB"
 },
 "nbformat": 4,
 "nbformat_minor": 5
}